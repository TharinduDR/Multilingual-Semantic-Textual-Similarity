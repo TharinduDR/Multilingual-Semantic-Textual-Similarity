{
 "cells": [
  {
   "cell_type": "markdown",
   "source": [
    "# Arabic Semantic Textual Similarity"
   ],
   "metadata": {
    "collapsed": false
   }
  },
  {
   "cell_type": "code",
   "execution_count": 6,
   "outputs": [
    {
     "name": "stdout",
     "output_type": "stream",
     "text": [
      "Requirement already satisfied: pandas in c:\\users\\ranasint\\conda_environments\\transformers\\lib\\site-packages (1.5.3)\n",
      "Requirement already satisfied: numpy>=1.20.3 in c:\\users\\ranasint\\conda_environments\\transformers\\lib\\site-packages (from pandas) (1.24.2)\n",
      "Requirement already satisfied: python-dateutil>=2.8.1 in c:\\users\\ranasint\\conda_environments\\transformers\\lib\\site-packages (from pandas) (2.8.2)\n",
      "Requirement already satisfied: pytz>=2020.1 in c:\\users\\ranasint\\conda_environments\\transformers\\lib\\site-packages (from pandas) (2022.7.1)\n",
      "Requirement already satisfied: six>=1.5 in c:\\users\\ranasint\\conda_environments\\transformers\\lib\\site-packages (from python-dateutil>=2.8.1->pandas) (1.16.0)\n",
      "Collecting matplotlib\n",
      "  Downloading matplotlib-3.7.1-cp39-cp39-win_amd64.whl (7.6 MB)\n",
      "     ---------------------------------------- 0.0/7.6 MB ? eta -:--:--\n",
      "     --- ------------------------------------ 0.7/7.6 MB 13.7 MB/s eta 0:00:01\n",
      "     ------- -------------------------------- 1.4/7.6 MB 14.8 MB/s eta 0:00:01\n",
      "     --------- ------------------------------ 1.8/7.6 MB 14.3 MB/s eta 0:00:01\n",
      "     ---------- ----------------------------- 2.0/7.6 MB 12.7 MB/s eta 0:00:01\n",
      "     ------------ --------------------------- 2.4/7.6 MB 10.8 MB/s eta 0:00:01\n",
      "     ------------- -------------------------- 2.6/7.6 MB 9.9 MB/s eta 0:00:01\n",
      "     -------------- ------------------------- 2.7/7.6 MB 9.2 MB/s eta 0:00:01\n",
      "     ---------------- ----------------------- 3.2/7.6 MB 8.8 MB/s eta 0:00:01\n",
      "     ------------------ --------------------- 3.5/7.6 MB 8.7 MB/s eta 0:00:01\n",
      "     ------------------- -------------------- 3.8/7.6 MB 8.3 MB/s eta 0:00:01\n",
      "     --------------------- ------------------ 4.0/7.6 MB 8.1 MB/s eta 0:00:01\n",
      "     ---------------------- ----------------- 4.4/7.6 MB 8.0 MB/s eta 0:00:01\n",
      "     ------------------------ --------------- 4.7/7.6 MB 7.9 MB/s eta 0:00:01\n",
      "     ------------------------- -------------- 4.9/7.6 MB 7.8 MB/s eta 0:00:01\n",
      "     --------------------------- ------------ 5.3/7.6 MB 7.6 MB/s eta 0:00:01\n",
      "     ---------------------------- ----------- 5.5/7.6 MB 7.5 MB/s eta 0:00:01\n",
      "     ------------------------------ --------- 5.8/7.6 MB 7.4 MB/s eta 0:00:01\n",
      "     ------------------------------- -------- 6.1/7.6 MB 7.5 MB/s eta 0:00:01\n",
      "     --------------------------------- ------ 6.4/7.6 MB 7.4 MB/s eta 0:00:01\n",
      "     ---------------------------------- ----- 6.7/7.6 MB 7.3 MB/s eta 0:00:01\n",
      "     ------------------------------------ --- 7.0/7.6 MB 7.2 MB/s eta 0:00:01\n",
      "     ------------------------------------- -- 7.2/7.6 MB 7.2 MB/s eta 0:00:01\n",
      "     ---------------------------------------  7.5/7.6 MB 7.2 MB/s eta 0:00:01\n",
      "     ---------------------------------------- 7.6/7.6 MB 6.9 MB/s eta 0:00:00\n",
      "Collecting fonttools>=4.22.0\n",
      "  Downloading fonttools-4.39.0-py3-none-any.whl (1.0 MB)\n",
      "     ---------------------------------------- 0.0/1.0 MB ? eta -:--:--\n",
      "     --- ------------------------------------ 0.1/1.0 MB 2.6 MB/s eta 0:00:01\n",
      "     ----------------------------- ---------- 0.7/1.0 MB 9.3 MB/s eta 0:00:01\n",
      "     ---------------------------------------- 1.0/1.0 MB 9.1 MB/s eta 0:00:00\n",
      "Collecting cycler>=0.10\n",
      "  Downloading cycler-0.11.0-py3-none-any.whl (6.4 kB)\n",
      "Collecting importlib-resources>=3.2.0\n",
      "  Downloading importlib_resources-5.12.0-py3-none-any.whl (36 kB)\n",
      "Requirement already satisfied: packaging>=20.0 in c:\\users\\ranasint\\conda_environments\\transformers\\lib\\site-packages (from matplotlib) (23.0)\n",
      "Collecting pillow>=6.2.0\n",
      "  Downloading Pillow-9.4.0-cp39-cp39-win_amd64.whl (2.5 MB)\n",
      "     ---------------------------------------- 0.0/2.5 MB ? eta -:--:--\n",
      "     ------- -------------------------------- 0.5/2.5 MB 10.0 MB/s eta 0:00:01\n",
      "     ------------------- -------------------- 1.2/2.5 MB 12.9 MB/s eta 0:00:01\n",
      "     --------------------------- ------------ 1.7/2.5 MB 12.0 MB/s eta 0:00:01\n",
      "     ---------------------------------- ----- 2.2/2.5 MB 12.6 MB/s eta 0:00:01\n",
      "     ---------------------------------------  2.5/2.5 MB 10.6 MB/s eta 0:00:01\n",
      "     ---------------------------------------- 2.5/2.5 MB 10.0 MB/s eta 0:00:00\n",
      "Collecting kiwisolver>=1.0.1\n",
      "  Downloading kiwisolver-1.4.4-cp39-cp39-win_amd64.whl (55 kB)\n",
      "     ---------------------------------------- 0.0/55.4 kB ? eta -:--:--\n",
      "     ---------------------------------------- 55.4/55.4 kB ? eta 0:00:00\n",
      "Requirement already satisfied: numpy>=1.20 in c:\\users\\ranasint\\conda_environments\\transformers\\lib\\site-packages (from matplotlib) (1.24.2)\n",
      "Requirement already satisfied: python-dateutil>=2.7 in c:\\users\\ranasint\\conda_environments\\transformers\\lib\\site-packages (from matplotlib) (2.8.2)\n",
      "Collecting pyparsing>=2.3.1\n",
      "  Downloading pyparsing-3.0.9-py3-none-any.whl (98 kB)\n",
      "     ---------------------------------------- 0.0/98.3 kB ? eta -:--:--\n",
      "     ---------------------------------------- 98.3/98.3 kB 5.5 MB/s eta 0:00:00\n",
      "Collecting contourpy>=1.0.1\n",
      "  Downloading contourpy-1.0.7-cp39-cp39-win_amd64.whl (160 kB)\n",
      "     ---------------------------------------- 0.0/160.2 kB ? eta -:--:--\n",
      "     -------------------------------------- 160.2/160.2 kB 4.7 MB/s eta 0:00:00\n",
      "Requirement already satisfied: zipp>=3.1.0 in c:\\users\\ranasint\\conda_environments\\transformers\\lib\\site-packages (from importlib-resources>=3.2.0->matplotlib) (3.15.0)\n",
      "Requirement already satisfied: six>=1.5 in c:\\users\\ranasint\\conda_environments\\transformers\\lib\\site-packages (from python-dateutil>=2.7->matplotlib) (1.16.0)\n",
      "Installing collected packages: pyparsing, pillow, kiwisolver, importlib-resources, fonttools, cycler, contourpy, matplotlib\n",
      "Successfully installed contourpy-1.0.7 cycler-0.11.0 fonttools-4.39.0 importlib-resources-5.12.0 kiwisolver-1.4.4 matplotlib-3.7.1 pillow-9.4.0 pyparsing-3.0.9\n"
     ]
    }
   ],
   "source": [
    "!pip install pandas\n",
    "!pip install matplotlib"
   ],
   "metadata": {
    "collapsed": false
   }
  },
  {
   "cell_type": "code",
   "execution_count": 14,
   "outputs": [],
   "source": [
    "import numpy as np\n",
    "import pandas as pd"
   ],
   "metadata": {
    "collapsed": false
   }
  },
  {
   "cell_type": "code",
   "execution_count": 3,
   "outputs": [],
   "source": [
    "train = pd.read_csv(\"train.csv\", sep=\"\\t\")\n",
    "test = pd.read_csv(\"test.csv\", sep=\"\\t\")"
   ],
   "metadata": {
    "collapsed": false
   }
  },
  {
   "cell_type": "markdown",
   "source": [
    "Let's see what are the rows in train and test datasets"
   ],
   "metadata": {
    "collapsed": false
   }
  },
  {
   "cell_type": "code",
   "execution_count": 8,
   "outputs": [
    {
     "data": {
      "text/plain": "   id                                         sentence_1  \\\n0   0  لكن مصادر أخرى مقربة من  المزاد قالت  بأن فيفن...   \n1   1  ستكون الترقية متاحة للتنزيل مجانا للعملاء الحا...   \n2   2  \"لم يصرح مسؤولون أمريكيون عما إذا كانت القوات ...   \n3   3  تستعر المعركة حول فيريساين على خدمة الموقع الم...   \n4   4  تم وضع دروس الليلة الماضية في غرفة العزل في ال...   \n5   5  أصيبت اميلي ، البالغة من العمر51 عاما ، بالسار...   \n6   6  وقد استسلم قائدهم، أبو بكر الأزدي، في يونيو؛ ح...   \n7   7  أجل ملك مقاطعة المحكمة العليا القاضي تشارلز مل...   \n8   8  داعمو جوجل في مراحلها الأولى هم :جامعة ستانفور...   \n9   9  طغت الاحتفالات والتجمعات بمناسبة الذكرى السادس...   \n\n                                          sentence_2  similarity  \n0  لكن مصادر أخرى مقربة من المزاد قالت  بأن فيفند...       4.000  \n1  سيكون الدعم بمثابة ترقية للبرمجيات الحرة التي ...       2.600  \n2  لم يصرح المسؤولون عما إذا كانت القوات الأمريكي...       4.000  \n3  أدخلت شركة فيري ساين خدمتها لموقع المستكشف في ...       1.750  \n4  قالت أن دروس مازال محتجزا في السجن، وهو الآن ف...       4.500  \n5  توفي أول العاملين في مجال الرعاية الصحية في ال...       3.250  \n6  وقد سلم زعيمهم، أبو بكر الأزدي، نفسه في شهر حز...       5.000  \n7  بعد البيان الافتتاحي فريتاس، أجل ملك مقاطعة ال...       3.000  \n8  نوهت  الصحيفة  أن مسثمري جوجل هي مؤسسات رأسمال...       2.800  \n9  الأول من يوليو هو الذكرى السادسة لعودة هونغ كو...       2.667  ",
      "text/html": "<div>\n<style scoped>\n    .dataframe tbody tr th:only-of-type {\n        vertical-align: middle;\n    }\n\n    .dataframe tbody tr th {\n        vertical-align: top;\n    }\n\n    .dataframe thead th {\n        text-align: right;\n    }\n</style>\n<table border=\"1\" class=\"dataframe\">\n  <thead>\n    <tr style=\"text-align: right;\">\n      <th></th>\n      <th>id</th>\n      <th>sentence_1</th>\n      <th>sentence_2</th>\n      <th>similarity</th>\n    </tr>\n  </thead>\n  <tbody>\n    <tr>\n      <th>0</th>\n      <td>0</td>\n      <td>لكن مصادر أخرى مقربة من  المزاد قالت  بأن فيفن...</td>\n      <td>لكن مصادر أخرى مقربة من المزاد قالت  بأن فيفند...</td>\n      <td>4.000</td>\n    </tr>\n    <tr>\n      <th>1</th>\n      <td>1</td>\n      <td>ستكون الترقية متاحة للتنزيل مجانا للعملاء الحا...</td>\n      <td>سيكون الدعم بمثابة ترقية للبرمجيات الحرة التي ...</td>\n      <td>2.600</td>\n    </tr>\n    <tr>\n      <th>2</th>\n      <td>2</td>\n      <td>\"لم يصرح مسؤولون أمريكيون عما إذا كانت القوات ...</td>\n      <td>لم يصرح المسؤولون عما إذا كانت القوات الأمريكي...</td>\n      <td>4.000</td>\n    </tr>\n    <tr>\n      <th>3</th>\n      <td>3</td>\n      <td>تستعر المعركة حول فيريساين على خدمة الموقع الم...</td>\n      <td>أدخلت شركة فيري ساين خدمتها لموقع المستكشف في ...</td>\n      <td>1.750</td>\n    </tr>\n    <tr>\n      <th>4</th>\n      <td>4</td>\n      <td>تم وضع دروس الليلة الماضية في غرفة العزل في ال...</td>\n      <td>قالت أن دروس مازال محتجزا في السجن، وهو الآن ف...</td>\n      <td>4.500</td>\n    </tr>\n    <tr>\n      <th>5</th>\n      <td>5</td>\n      <td>أصيبت اميلي ، البالغة من العمر51 عاما ، بالسار...</td>\n      <td>توفي أول العاملين في مجال الرعاية الصحية في ال...</td>\n      <td>3.250</td>\n    </tr>\n    <tr>\n      <th>6</th>\n      <td>6</td>\n      <td>وقد استسلم قائدهم، أبو بكر الأزدي، في يونيو؛ ح...</td>\n      <td>وقد سلم زعيمهم، أبو بكر الأزدي، نفسه في شهر حز...</td>\n      <td>5.000</td>\n    </tr>\n    <tr>\n      <th>7</th>\n      <td>7</td>\n      <td>أجل ملك مقاطعة المحكمة العليا القاضي تشارلز مل...</td>\n      <td>بعد البيان الافتتاحي فريتاس، أجل ملك مقاطعة ال...</td>\n      <td>3.000</td>\n    </tr>\n    <tr>\n      <th>8</th>\n      <td>8</td>\n      <td>داعمو جوجل في مراحلها الأولى هم :جامعة ستانفور...</td>\n      <td>نوهت  الصحيفة  أن مسثمري جوجل هي مؤسسات رأسمال...</td>\n      <td>2.800</td>\n    </tr>\n    <tr>\n      <th>9</th>\n      <td>9</td>\n      <td>طغت الاحتفالات والتجمعات بمناسبة الذكرى السادس...</td>\n      <td>الأول من يوليو هو الذكرى السادسة لعودة هونغ كو...</td>\n      <td>2.667</td>\n    </tr>\n  </tbody>\n</table>\n</div>"
     },
     "execution_count": 8,
     "metadata": {},
     "output_type": "execute_result"
    }
   ],
   "source": [
    "train[:10]"
   ],
   "metadata": {
    "collapsed": false
   }
  },
  {
   "cell_type": "code",
   "execution_count": 12,
   "outputs": [
    {
     "data": {
      "text/plain": "                id   similarity\ncount  1081.000000  1081.000000\nmean    540.000000     3.094003\nstd     312.202125     1.480067\nmin       0.000000     0.000000\n25%     270.000000     2.250000\n50%     540.000000     3.400000\n75%     810.000000     4.400000\nmax    1080.000000     5.000000",
      "text/html": "<div>\n<style scoped>\n    .dataframe tbody tr th:only-of-type {\n        vertical-align: middle;\n    }\n\n    .dataframe tbody tr th {\n        vertical-align: top;\n    }\n\n    .dataframe thead th {\n        text-align: right;\n    }\n</style>\n<table border=\"1\" class=\"dataframe\">\n  <thead>\n    <tr style=\"text-align: right;\">\n      <th></th>\n      <th>id</th>\n      <th>similarity</th>\n    </tr>\n  </thead>\n  <tbody>\n    <tr>\n      <th>count</th>\n      <td>1081.000000</td>\n      <td>1081.000000</td>\n    </tr>\n    <tr>\n      <th>mean</th>\n      <td>540.000000</td>\n      <td>3.094003</td>\n    </tr>\n    <tr>\n      <th>std</th>\n      <td>312.202125</td>\n      <td>1.480067</td>\n    </tr>\n    <tr>\n      <th>min</th>\n      <td>0.000000</td>\n      <td>0.000000</td>\n    </tr>\n    <tr>\n      <th>25%</th>\n      <td>270.000000</td>\n      <td>2.250000</td>\n    </tr>\n    <tr>\n      <th>50%</th>\n      <td>540.000000</td>\n      <td>3.400000</td>\n    </tr>\n    <tr>\n      <th>75%</th>\n      <td>810.000000</td>\n      <td>4.400000</td>\n    </tr>\n    <tr>\n      <th>max</th>\n      <td>1080.000000</td>\n      <td>5.000000</td>\n    </tr>\n  </tbody>\n</table>\n</div>"
     },
     "execution_count": 12,
     "metadata": {},
     "output_type": "execute_result"
    }
   ],
   "source": [
    "train.describe()"
   ],
   "metadata": {
    "collapsed": false
   }
  },
  {
   "cell_type": "code",
   "execution_count": 9,
   "outputs": [
    {
     "data": {
      "text/plain": "   id                                         sentence_1  \\\n0   0            شخص ما يحمل لوح التزلج ليلا على الرصيف.   \n1   1               تتسابق النساء في سباق الدايتونا 500.   \n2   2                          تمشي النساء جنبا إلى جنب.   \n3   3       يقفز الرجل ذو القميص الأخضر عاليا على العشب.   \n4   4                 رجلان يجلسان على العشب ومعهما موز.   \n5   5  كومة من الصخور تحمل علامات غريبة ، تسببت في تج...   \n6   6  ساعدت النساء أحد العدائين الذي كان قد سقط ، لل...   \n7   7                              تشتري المرأة الغَزْل.   \n8   8   تهرول امرأة في أحد الأزقة ، مرتدية ملابس سوداء .   \n9   9                                    إنه حفل موسيقي.   \n\n                                          sentence_2  similarity  \n0  رجل جالس بمفرده يقرأ على طاولة مستديرة ، خارج ...         0.8  \n1               يتسابق بعض الرجال ضمن مسابقة التزلج.         1.0  \n2                          هناك فتيات يمشين متجاورات         2.6  \n3  يمشي الرجل ذو القميص الأبيض على العشب الطويل م...         2.2  \n4           ثلاثة رجال يتسكعون عند فرشة بيع الفاكهة.         1.4  \n5  يسير بعض الأشخاص على بعض الصخور الموجودة في ال...         1.8  \n6                           كانت المرأة تضع المكياج.         0.4  \n7                          تبيع إحدى النساء المحصول.         1.4  \n8                 يسير شاب ذو سترة سوداء على الرصيف.         1.0  \n9                            يقدم شخصٌ حفلا موسيقيا.         2.8  ",
      "text/html": "<div>\n<style scoped>\n    .dataframe tbody tr th:only-of-type {\n        vertical-align: middle;\n    }\n\n    .dataframe tbody tr th {\n        vertical-align: top;\n    }\n\n    .dataframe thead th {\n        text-align: right;\n    }\n</style>\n<table border=\"1\" class=\"dataframe\">\n  <thead>\n    <tr style=\"text-align: right;\">\n      <th></th>\n      <th>id</th>\n      <th>sentence_1</th>\n      <th>sentence_2</th>\n      <th>similarity</th>\n    </tr>\n  </thead>\n  <tbody>\n    <tr>\n      <th>0</th>\n      <td>0</td>\n      <td>شخص ما يحمل لوح التزلج ليلا على الرصيف.</td>\n      <td>رجل جالس بمفرده يقرأ على طاولة مستديرة ، خارج ...</td>\n      <td>0.8</td>\n    </tr>\n    <tr>\n      <th>1</th>\n      <td>1</td>\n      <td>تتسابق النساء في سباق الدايتونا 500.</td>\n      <td>يتسابق بعض الرجال ضمن مسابقة التزلج.</td>\n      <td>1.0</td>\n    </tr>\n    <tr>\n      <th>2</th>\n      <td>2</td>\n      <td>تمشي النساء جنبا إلى جنب.</td>\n      <td>هناك فتيات يمشين متجاورات</td>\n      <td>2.6</td>\n    </tr>\n    <tr>\n      <th>3</th>\n      <td>3</td>\n      <td>يقفز الرجل ذو القميص الأخضر عاليا على العشب.</td>\n      <td>يمشي الرجل ذو القميص الأبيض على العشب الطويل م...</td>\n      <td>2.2</td>\n    </tr>\n    <tr>\n      <th>4</th>\n      <td>4</td>\n      <td>رجلان يجلسان على العشب ومعهما موز.</td>\n      <td>ثلاثة رجال يتسكعون عند فرشة بيع الفاكهة.</td>\n      <td>1.4</td>\n    </tr>\n    <tr>\n      <th>5</th>\n      <td>5</td>\n      <td>كومة من الصخور تحمل علامات غريبة ، تسببت في تج...</td>\n      <td>يسير بعض الأشخاص على بعض الصخور الموجودة في ال...</td>\n      <td>1.8</td>\n    </tr>\n    <tr>\n      <th>6</th>\n      <td>6</td>\n      <td>ساعدت النساء أحد العدائين الذي كان قد سقط ، لل...</td>\n      <td>كانت المرأة تضع المكياج.</td>\n      <td>0.4</td>\n    </tr>\n    <tr>\n      <th>7</th>\n      <td>7</td>\n      <td>تشتري المرأة الغَزْل.</td>\n      <td>تبيع إحدى النساء المحصول.</td>\n      <td>1.4</td>\n    </tr>\n    <tr>\n      <th>8</th>\n      <td>8</td>\n      <td>تهرول امرأة في أحد الأزقة ، مرتدية ملابس سوداء .</td>\n      <td>يسير شاب ذو سترة سوداء على الرصيف.</td>\n      <td>1.0</td>\n    </tr>\n    <tr>\n      <th>9</th>\n      <td>9</td>\n      <td>إنه حفل موسيقي.</td>\n      <td>يقدم شخصٌ حفلا موسيقيا.</td>\n      <td>2.8</td>\n    </tr>\n  </tbody>\n</table>\n</div>"
     },
     "execution_count": 9,
     "metadata": {},
     "output_type": "execute_result"
    }
   ],
   "source": [
    "test[:10]"
   ],
   "metadata": {
    "collapsed": false
   }
  },
  {
   "cell_type": "code",
   "execution_count": 22,
   "outputs": [],
   "source": [
    "def convert(row):\n",
    "    if row['similarity'] <= 1.0:\n",
    "        return '0-1'\n",
    "    elif 1.0 < row['similarity'] <= 2.0:\n",
    "        return '1-2'\n",
    "    elif 2.0 < row['similarity'] <= 3.0:\n",
    "        return '2-3'\n",
    "    elif 3.0 < row['similarity'] <= 4.0:\n",
    "        return '3-4'\n",
    "    else:\n",
    "        return '4-5'\n",
    "\n",
    "train['category'] = train.apply(convert, axis=1)\n",
    "test['category'] = test.apply(convert, axis=1)"
   ],
   "metadata": {
    "collapsed": false
   }
  },
  {
   "cell_type": "code",
   "execution_count": 23,
   "outputs": [
    {
     "data": {
      "text/plain": "<Axes: xlabel='category'>"
     },
     "execution_count": 23,
     "metadata": {},
     "output_type": "execute_result"
    },
    {
     "data": {
      "text/plain": "<Figure size 640x480 with 1 Axes>",
      "image/png": "[encoded data removed]"
     },
     "metadata": {},
     "output_type": "display_data"
    }
   ],
   "source": [
    "train.groupby(\"category\")['id'].count().plot.bar()"
   ],
   "metadata": {
    "collapsed": false
   }
  },
  {
   "cell_type": "code",
   "execution_count": 24,
   "outputs": [
    {
     "data": {
      "text/plain": "<Axes: xlabel='category'>"
     },
     "execution_count": 24,
     "metadata": {},
     "output_type": "execute_result"
    },
    {
     "data": {
      "text/plain": "<Figure size 640x480 with 1 Axes>",
      "image/png": "[encoded data removed]"
     },
     "metadata": {},
     "output_type": "display_data"
    }
   ],
   "source": [
    "test.groupby(\"category\")['id'].count().plot.bar()"
   ],
   "metadata": {
    "collapsed": false
   }
  },
  {
   "cell_type": "code",
   "execution_count": null,
   "outputs": [],
   "source": [
    "# df['freq_qid1'] = df.groupby('qid1')['qid1'].transform('count')\n",
    "# df['freq_qid2'] = df.groupby('qid2')['qid2'].transform('count')\n",
    "# df['q1len'] = df['question1'].str.len()\n",
    "# df['q2len'] = df['question2'].str.len()\n",
    "# df['q1_n_words'] = df['question1'].apply(lambda row :len(row.split(\" \")))\n",
    "# df['q2_n_words'] = df['question2'].apply(lambda row :len(row.split(\" \")))\n",
    "#\n",
    "# def normalized_word_Common(row):\n",
    "#     w1 = set(map(lambda word: word.lower().strip(), row['question1'].split()))\n",
    "#         w2 = set(map(lambda word: word.lower().strip(), row['question2'].split()))\n",
    "#         return 1.0* len(w1 & w2)\n",
    "#     df['word_Common'] = df.apply(normalized_word_Common, axis=1)\n",
    "#\n",
    "#     def normalized_word_Total(row):\n",
    "#         w1 = set(map(lambda word: word.lower().strip(), row['question1'].split()))\n",
    "#         w2 = set(map(lambda word: word.lower().strip(), row['question2'].split()))\n",
    "#         return 1* (len(w1) + len(w2))\n",
    "#     df['word_Total'] = df.apply(normalized_word_Total, axis = 1)\n",
    "#\n",
    "#     def normalized_word_share(row):\n",
    "#         w1 = set(map(lambda word: word.lower().strip(), row['question1'].split()))\n",
    "#         w2 = set(map(lambda word: word.lower().strip(), row['question2'].split()))\n",
    "#         return 1.0*len(w1 & w2) / (len(w1) + len(w2))\n",
    "#     df['word_share'] = df.apply(normalized_word_share, axis = 1)\n",
    "#\n",
    "#     df['freq_q1+q2'] = df['freq_qid1'] + df['freq_qid2']\n",
    "#     df['freq_q1-q2'] = abs(df['freq_qid1'] - df['freq_qid2'])"
   ],
   "metadata": {
    "collapsed": false
   }
  }
 ],
 "metadata": {
  "kernelspec": {
   "display_name": "Python 3",
   "language": "python",
   "name": "python3"
  },
  "language_info": {
   "codemirror_mode": {
    "name": "ipython",
    "version": 2
   },
   "file_extension": ".py",
   "mimetype": "text/x-python",
   "name": "python",
   "nbconvert_exporter": "python",
   "pygments_lexer": "ipython2",
   "version": "2.7.6"
  }
 },
 "nbformat": 4,
 "nbformat_minor": 0
}
